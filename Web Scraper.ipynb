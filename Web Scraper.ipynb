{
 "cells": [
  {
   "cell_type": "code",
   "execution_count": 1,
   "metadata": {
    "collapsed": false
   },
   "outputs": [],
   "source": [
    "from bs4 import BeautifulSoup\n",
    "import urllib"
   ]
  },
  {
   "cell_type": "code",
   "execution_count": 2,
   "metadata": {
    "collapsed": false,
    "scrolled": true
   },
   "outputs": [
    {
     "name": "stderr",
     "output_type": "stream",
     "text": [
      "/Library/Frameworks/Python.framework/Versions/3.4/lib/python3.4/site-packages/bs4/__init__.py:181: UserWarning: No parser was explicitly specified, so I'm using the best available HTML parser for this system (\"html5lib\"). This usually isn't a problem, but if you run this code on another system, or in a different virtual environment, it may use a different parser and behave differently.\n",
      "\n",
      "The code that caused this warning is on line 170 of the file /Library/Frameworks/Python.framework/Versions/3.4/lib/python3.4/runpy.py. To get rid of this warning, change code that looks like this:\n",
      "\n",
      " BeautifulSoup([your markup])\n",
      "\n",
      "to this:\n",
      "\n",
      " BeautifulSoup([your markup], \"html5lib\")\n",
      "\n",
      "  markup_type=markup_type))\n"
     ]
    }
   ],
   "source": [
    "response = urllib.request.urlopen('https://www.n2yo.com/browse/?y=2018')\n",
    "html = BeautifulSoup(response)"
   ]
  },
  {
   "cell_type": "code",
   "execution_count": 4,
   "metadata": {
    "collapsed": false,
    "scrolled": true
   },
   "outputs": [
    {
     "name": "stdout",
     "output_type": "stream",
     "text": [
      "1957\n"
     ]
    },
    {
     "name": "stderr",
     "output_type": "stream",
     "text": [
      "/Library/Frameworks/Python.framework/Versions/3.4/lib/python3.4/site-packages/bs4/__init__.py:181: UserWarning: No parser was explicitly specified, so I'm using the best available HTML parser for this system (\"html5lib\"). This usually isn't a problem, but if you run this code on another system, or in a different virtual environment, it may use a different parser and behave differently.\n",
      "\n",
      "The code that caused this warning is on line 170 of the file /Library/Frameworks/Python.framework/Versions/3.4/lib/python3.4/runpy.py. To get rid of this warning, change code that looks like this:\n",
      "\n",
      " BeautifulSoup([your markup])\n",
      "\n",
      "to this:\n",
      "\n",
      " BeautifulSoup([your markup], \"html5lib\")\n",
      "\n",
      "  markup_type=markup_type))\n"
     ]
    },
    {
     "name": "stdout",
     "output_type": "stream",
     "text": [
      "1958\n",
      "1959\n",
      "1960\n",
      "1961\n",
      "1962\n",
      "1963\n",
      "1964\n",
      "1965\n",
      "1966\n",
      "1967\n",
      "1968\n",
      "1969\n",
      "1970\n",
      "1971\n",
      "1972\n",
      "1973\n",
      "1974\n",
      "1975\n",
      "1976\n",
      "1977\n",
      "1978\n",
      "1979\n",
      "1980\n",
      "1981\n",
      "1982\n",
      "1983\n",
      "1984\n",
      "1985\n",
      "1986\n",
      "1987\n",
      "1988\n",
      "1989\n",
      "1990\n",
      "1991\n",
      "1992\n",
      "1993\n",
      "1994\n",
      "1995\n",
      "1996\n",
      "1997\n",
      "1998\n",
      "1999\n",
      "2000\n",
      "2001\n",
      "2002\n",
      "2003\n",
      "2004\n",
      "2005\n",
      "2006\n",
      "2007\n",
      "2008\n",
      "2009\n",
      "2010\n",
      "2011\n",
      "2012\n",
      "2013\n",
      "2014\n",
      "2015\n",
      "2016\n",
      "2017\n",
      "2018\n"
     ]
    }
   ],
   "source": [
    "### Get links to all satellite pages\n",
    "### Visit every year and  every month, get link to satellite from table\n",
    "\n",
    "url = 'https://www.n2yo.com/'\n",
    "satellite_links = []\n",
    "launch_years = [i for i in range(1957, 2018+1)]\n",
    "\n",
    "for y in launch_years:\n",
    "    print(y)\n",
    "    yearURL = url + \"browse/?y=\" + str(y)\n",
    "    \n",
    "    year_response = urllib.request.urlopen(yearURL)\n",
    "    year_html = BeautifulSoup(year_response)\n",
    "    \n",
    "    months = year_html.find_all(\"li\", \"a\", class_ = \"arrow\")\n",
    "    months_href = [m.a[\"href\"] for m in months]\n",
    "    months_html = [ url + m for m in months_href]\n",
    "    \n",
    "    for h in months_html:\n",
    "        months_response = urllib.request.urlopen(h)\n",
    "        months_page = BeautifulSoup(months_response)\n",
    "\n",
    "        # Loop through table of satellites\n",
    "        table = months_page.find(\"table\", id = \"satsbylaunchdatetab\")\n",
    "        sats = table.find_all(\"tr\"); sats.pop(0)\n",
    "        sats_links = [s.a['href'] for s in sats];\n",
    "        sats_html = [url + s for s in sats_links]\n",
    "        \n",
    "        for n in sats_html:\n",
    "            satellite_links.append(n)"
   ]
  },
  {
   "cell_type": "code",
   "execution_count": 8,
   "metadata": {
    "collapsed": false
   },
   "outputs": [],
   "source": [
    "data_ID = []\n",
    "data_Name = []\n",
    "data_Source = []\n",
    "data_LaunchDate = []\n",
    "data_DecayDate = []\n",
    "data_Decay = []"
   ]
  },
  {
   "cell_type": "code",
   "execution_count": null,
   "metadata": {
    "collapsed": false
   },
   "outputs": [],
   "source": [
    "for s in satellite_links:\n",
    "    sat_response = urllib.request.urlopen(s)\n",
    "    sat_html = BeautifulSoup(sat_response)\n",
    "\n",
    "    satInfo  = sat_html.find(\"div\", id = \"satinfo\")\n",
    "\n",
    "\n",
    "    data_ID.append(satInfo.find(string = \"NORAD ID\").next_element.replace(\": \", \"\"))\n",
    "\n",
    "    data_Name.append(satInfo.h1.text)\n",
    "\n",
    "    data_Source.append(satInfo.find(string = \"Source\").next_element.replace(\": \", \"\"))\n",
    "\n",
    "    launchDate = satInfo.find(string = \"Launch date\").next_element.next_element.text\n",
    "    launchDate = datetime.strptime(launchDate, '%B %d, %Y')\n",
    "    data_LaunchDate.append(launchDate.strftime('%m-%d-%Y'))\n",
    "    \n",
    "    decayStatus = satInfo.find(string = \"Decay date\")\n",
    "    if decayStatus is None: \n",
    "        status = \"Active\"\n",
    "        data_DecayDate.append(\"NA\")\n",
    "    else:\n",
    "        status = \"Decay\"\n",
    "        decayDate = satInfo.find(string = \"Decay date\").next_element.replace(\": \", \"\")\n",
    "        decayDate = datetime.strptime(decayDate, '%Y-%m-%d ')\n",
    "        data_DecayDate.append(decayDate.strftime('%m-%d-%Y'))\n",
    "        \n",
    "    data_Decay.append(status)"
   ]
  },
  {
   "cell_type": "code",
   "execution_count": null,
   "metadata": {
    "collapsed": true
   },
   "outputs": [],
   "source": []
  }
 ],
 "metadata": {
  "kernelspec": {
   "display_name": "Python 3",
   "language": "python",
   "name": "python3"
  },
  "language_info": {
   "codemirror_mode": {
    "name": "ipython",
    "version": 3
   },
   "file_extension": ".py",
   "mimetype": "text/x-python",
   "name": "python",
   "nbconvert_exporter": "python",
   "pygments_lexer": "ipython3",
   "version": "3.4.3"
  }
 },
 "nbformat": 4,
 "nbformat_minor": 2
}
